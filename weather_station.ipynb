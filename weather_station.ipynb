{
  "nbformat": 4,
  "nbformat_minor": 0,
  "metadata": {
    "colab": {
      "name": "weather_station.ipynb",
      "provenance": [],
      "collapsed_sections": [],
      "include_colab_link": true
    },
    "kernelspec": {
      "name": "python3",
      "display_name": "Python 3"
    }
  },
  "cells": [
    {
      "cell_type": "markdown",
      "metadata": {
        "id": "view-in-github",
        "colab_type": "text"
      },
      "source": [
        "<a href=\"https://colab.research.google.com/github/RandallWoodall/cs519/blob/master/weather_station.ipynb\" target=\"_parent\"><img src=\"https://colab.research.google.com/assets/colab-badge.svg\" alt=\"Open In Colab\"/></a>"
      ]
    },
    {
      "cell_type": "code",
      "metadata": {
        "id": "H8kYJDkP_Uno",
        "colab_type": "code",
        "colab": {}
      },
      "source": [
        "import requests\n",
        "from requests.auth import HTTPBasicAuth\n",
        "import json \n",
        "hourly_weather = [] #list of weather \n",
        "import numpy as np\n"
      ],
      "execution_count": 0,
      "outputs": []
    },
    {
      "cell_type": "code",
      "metadata": {
        "id": "yIkHu7QDBEj3",
        "colab_type": "code",
        "colab": {}
      },
      "source": [
        "#hourly 7 days, params=[('q', 'requests+language:python')]\n",
        "responsetry = requests.get ('https://api.weather.com/v2/pws/observations/hourly/7day?stationId=KNMLASCR263&format=json&units=e&apiKey=33b111b523f94b80b111b523f9bb80b8', auth=HTTPBasicAuth('KNMLASCR263', 'N2miGFcR'))"
      ],
      "execution_count": 0,
      "outputs": []
    },
    {
      "cell_type": "code",
      "metadata": {
        "colab_type": "code",
        "id": "2v4TRjbpJ2Fa",
        "colab": {}
      },
      "source": [
        "#forecast daily/5 days\n",
        "\n",
        "responsetry = requests.get ('https://api.weather.com/v3/wx/forecast/daily/5day?geocode=32.28123,-106.753756&format=json&units=e&language=en-US&apiKey=33b111b523f94b80b111b523f9bb80b8')"
      ],
      "execution_count": 0,
      "outputs": []
    },
    {
      "cell_type": "code",
      "metadata": {
        "id": "O6On24Jq_d-p",
        "colab_type": "code",
        "outputId": "3b3de5bc-666b-48a7-acdd-49f625356f5f",
        "colab": {
          "base_uri": "https://localhost:8080/",
          "height": 34
        }
      },
      "source": [
        "print(responsetry.status_code)"
      ],
      "execution_count": 0,
      "outputs": [
        {
          "output_type": "stream",
          "text": [
            "200\n"
          ],
          "name": "stdout"
        }
      ]
    },
    {
      "cell_type": "code",
      "metadata": {
        "id": "OtYvASrIvIYi",
        "colab_type": "code",
        "colab": {}
      },
      "source": [
        "print(responsetry.json())\n",
        "dict_=responsetry.json()\n",
        "for hour in dict_['observations']:\n",
        "  print(hour['obsTimeLocal'] + ', ' + str(hour['imperial']['pressureMin']))\n",
        "print(dict_['observations'][0]['obsTimeLocal'])\n",
        "print(dict_['observations'][150]['obsTimeLocal'])"
      ],
      "execution_count": 0,
      "outputs": []
    },
    {
      "cell_type": "code",
      "metadata": {
        "id": "dnXEixyU25SQ",
        "colab_type": "code",
        "colab": {}
      },
      "source": [
        "def jprint(obj):\n",
        "    # create a formatted string of the Python JSON object\n",
        "    text = json.dumps(obj, sort_keys=False, indent= 4)\n",
        "    print(text)\n",
        "    \n",
        "\n",
        "jprint(responsetry.json())"
      ],
      "execution_count": 0,
      "outputs": []
    }
  ]
}